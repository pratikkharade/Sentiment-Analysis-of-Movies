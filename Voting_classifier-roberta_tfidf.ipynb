{
 "cells": [
  {
   "cell_type": "code",
   "execution_count": 24,
   "id": "acfb1c99",
   "metadata": {},
   "outputs": [],
   "source": [
    "from sklearn.datasets import load_iris\n",
    "from sklearn.model_selection import train_test_split\n",
    "from sklearn.tree import DecisionTreeClassifier\n",
    "from sklearn.neighbors import KNeighborsClassifier\n",
    "from sklearn.linear_model import LogisticRegression\n",
    "from sklearn.ensemble import VotingClassifier\n",
    "from sklearn.metrics import accuracy_score\n",
    "from sklearn.svm import SVC\n",
    "import pandas as pd\n",
    "import numpy as np\n",
    "import random\n",
    "import matplotlib.pyplot as plt\n",
    "import os\n",
    "import csv"
   ]
  },
  {
   "cell_type": "code",
   "execution_count": 25,
   "id": "1a513a7e",
   "metadata": {},
   "outputs": [],
   "source": [
    "train = pd.read_csv('data//roberta//roberta.train.csv')\n",
    "train_x = train.iloc[:,:-1]\n",
    "train_y = train.iloc[:,-1:]\n",
    "\n",
    "train_tfidf = pd.read_csv('data//tfidf//tfidf.train.csv')\n",
    "train_x_tfidf = train_tfidf.iloc[:,:-1]\n",
    "train_y_tfidf = train_tfidf.iloc[:,-1:]\n",
    "\n",
    "test = pd.read_csv('data//roberta//roberta.test.csv')\n",
    "test_x = test.iloc[:,:-1]\n",
    "test_y = test.iloc[:,-1:]\n",
    "\n",
    "test_tfidf = pd.read_csv('data//tfidf//tfidf.test.csv')\n",
    "test_x_tfidf = test_tfidf.iloc[:,:-1]\n",
    "test_y_tfidf = test_tfidf.iloc[:,-1:]\n",
    "\n",
    "eval_df = pd.read_csv('data//roberta//roberta.eval.anon.csv')\n",
    "eval_df = eval_df.iloc[:,:-1]\n",
    "\n",
    "eval_df_tfidf = pd.read_csv('data//tfidf//tfidf.eval.anon.csv')\n",
    "eval_df_tfidf = eval_df_tfidf.iloc[:,:-1]"
   ]
  },
  {
   "cell_type": "code",
   "execution_count": 26,
   "id": "b683f30a",
   "metadata": {},
   "outputs": [],
   "source": [
    "train_y = train_y.replace(0, -1)\n",
    "train_y_tfidf = train_y_tfidf.replace(0, -1)\n",
    "test_y = test_y.replace(0, -1)\n",
    "test_y_tfidf = test_y_tfidf.replace(0, -1)"
   ]
  },
  {
   "cell_type": "code",
   "execution_count": 27,
   "id": "44a8a688",
   "metadata": {},
   "outputs": [],
   "source": [
    "for i in range(train_x.shape[1]):\n",
    "    col = train_x.columns[i]\n",
    "    train_x.rename(columns = {col:'roberta_'+col}, inplace = True)\n",
    "    \n",
    "for i in range(train_x_tfidf.shape[1]):\n",
    "    col = train_x_tfidf.columns[i]\n",
    "    train_x_tfidf.rename(columns = {col:'tfidf_'+col}, inplace = True)\n",
    "    \n",
    "for i in range(test_x.shape[1]):\n",
    "    col = test_x.columns[i]\n",
    "    test_x.rename(columns = {col:'roberta_'+col}, inplace = True)\n",
    "    \n",
    "for i in range(test_x_tfidf.shape[1]):\n",
    "    col = test_x_tfidf.columns[i]\n",
    "    test_x_tfidf.rename(columns = {col:'tfidf_'+col}, inplace = True)\n",
    "\n",
    "for i in range(eval_df.shape[1]):\n",
    "    col = eval_df.columns[i]\n",
    "    eval_df.rename(columns = {col:'roberta_'+col}, inplace = True)\n",
    "    \n",
    "for i in range(eval_df_tfidf.shape[1]):\n",
    "    col = eval_df_tfidf.columns[i]\n",
    "    eval_df_tfidf.rename(columns = {col:'tfidf_'+col}, inplace = True)\n",
    "\n",
    "col = train_x_tfidf[train_x_tfidf.columns]\n",
    "train_x = train_x.join(col)\n",
    "\n",
    "col = test_x_tfidf[test_x_tfidf.columns]\n",
    "test_x = test_x.join(col)\n",
    "\n",
    "col = eval_df_tfidf[eval_df_tfidf.columns]\n",
    "eval_df = eval_df.join(col)"
   ]
  },
  {
   "cell_type": "code",
   "execution_count": 28,
   "id": "7cc3ccc4",
   "metadata": {},
   "outputs": [],
   "source": [
    "# Create three different classifiers\n",
    "clf1 = DecisionTreeClassifier(max_depth=4)\n",
    "clf2 = SVC(kernel='linear',random_state=65)\n",
    "clf3 = LogisticRegression(max_iter=1250,random_state=65)"
   ]
  },
  {
   "cell_type": "code",
   "execution_count": 29,
   "id": "bed91d64",
   "metadata": {},
   "outputs": [],
   "source": [
    "# Create a voting classifier\n",
    "voting_clf = VotingClassifier(estimators=[('dt', clf1), ('svc', clf2), ('lr', clf3)], voting='hard')"
   ]
  },
  {
   "cell_type": "code",
   "execution_count": 30,
   "id": "a1e983a0",
   "metadata": {},
   "outputs": [
    {
     "name": "stderr",
     "output_type": "stream",
     "text": [
      "/opt/anaconda3/lib/python3.9/site-packages/sklearn/preprocessing/_label.py:98: DataConversionWarning: A column-vector y was passed when a 1d array was expected. Please change the shape of y to (n_samples, ), for example using ravel().\n",
      "  y = column_or_1d(y, warn=True)\n",
      "/opt/anaconda3/lib/python3.9/site-packages/sklearn/preprocessing/_label.py:133: DataConversionWarning: A column-vector y was passed when a 1d array was expected. Please change the shape of y to (n_samples, ), for example using ravel().\n",
      "  y = column_or_1d(y, warn=True)\n"
     ]
    },
    {
     "data": {
      "text/plain": [
       "VotingClassifier(estimators=[('dt', DecisionTreeClassifier(max_depth=4)),\n",
       "                             ('svc', SVC(kernel='linear', random_state=65)),\n",
       "                             ('lr',\n",
       "                              LogisticRegression(max_iter=1250,\n",
       "                                                 random_state=65))])"
      ]
     },
     "execution_count": 30,
     "metadata": {},
     "output_type": "execute_result"
    }
   ],
   "source": [
    "# Fit the voting classifier on the training data\n",
    "voting_clf.fit(train_x, train_y)"
   ]
  },
  {
   "cell_type": "code",
   "execution_count": 31,
   "id": "b5bde53f",
   "metadata": {},
   "outputs": [
    {
     "name": "stdout",
     "output_type": "stream",
     "text": [
      "Voting classifier training accuracy: 0.9132336343115124\n"
     ]
    }
   ],
   "source": [
    "# Make predictions on the testing data\n",
    "pred = voting_clf.predict(train_x)\n",
    "\n",
    "# Evaluate the accuracy of the voting classifier\n",
    "accuracy = accuracy_score(train_y, pred)\n",
    "print(\"Voting classifier training accuracy:\", accuracy)"
   ]
  },
  {
   "cell_type": "code",
   "execution_count": 32,
   "id": "073b18d5",
   "metadata": {},
   "outputs": [
    {
     "name": "stdout",
     "output_type": "stream",
     "text": [
      "Voting classifier test accuracy: 0.8215931533903884\n"
     ]
    }
   ],
   "source": [
    "# Make predictions on the testing data\n",
    "pred = voting_clf.predict(test_x)\n",
    "\n",
    "# Evaluate the accuracy of the voting classifier\n",
    "accuracy = accuracy_score(test_y, pred)\n",
    "print(\"Voting classifier test accuracy:\", accuracy)"
   ]
  },
  {
   "cell_type": "code",
   "execution_count": 33,
   "id": "8828ad0c",
   "metadata": {},
   "outputs": [],
   "source": [
    "eval_pred = voting_clf.predict(eval_df)"
   ]
  },
  {
   "cell_type": "code",
   "execution_count": 34,
   "id": "6f0781d6",
   "metadata": {},
   "outputs": [],
   "source": [
    "file = open('3_voting_classifier_roberta_tfidf_new_parameters.csv', 'w', newline ='')\n",
    "\n",
    "with file:\n",
    "    header = ['example_id', 'label']\n",
    "    writer = csv.DictWriter(file, fieldnames = header)\n",
    "\n",
    "    writer.writeheader()\n",
    "    for i in range(len(eval_pred)):\n",
    "        if eval_pred[i] == -1:\n",
    "            val = 0\n",
    "        else:\n",
    "            val = 1\n",
    "        writer.writerow({'example_id' : i, 'label': val})"
   ]
  },
  {
   "cell_type": "code",
   "execution_count": null,
   "id": "731582f5",
   "metadata": {},
   "outputs": [],
   "source": []
  }
 ],
 "metadata": {
  "kernelspec": {
   "display_name": "Python 3 (ipykernel)",
   "language": "python",
   "name": "python3"
  },
  "language_info": {
   "codemirror_mode": {
    "name": "ipython",
    "version": 3
   },
   "file_extension": ".py",
   "mimetype": "text/x-python",
   "name": "python",
   "nbconvert_exporter": "python",
   "pygments_lexer": "ipython3",
   "version": "3.9.15"
  }
 },
 "nbformat": 4,
 "nbformat_minor": 5
}
